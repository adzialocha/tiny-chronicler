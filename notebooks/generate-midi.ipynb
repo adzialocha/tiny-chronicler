{
 "cells": [
  {
   "cell_type": "code",
   "execution_count": 6,
   "id": "14d6237b-21cf-410a-9255-d6e17f04dfde",
   "metadata": {},
   "outputs": [
    {
     "name": "stdout",
     "output_type": "stream",
     "text": [
      "Stored MIDI score @ ./module-2notes-1.mid\n",
      "Stored MIDI score @ ./module-2notes-2.mid\n",
      "Stored MIDI score @ ./module-2notes-3.mid\n",
      "Stored MIDI score @ ./module-2notes-4.mid\n"
     ]
    }
   ],
   "source": [
    "import os\n",
    "import pretty_midi\n",
    "\n",
    "OUT_FOLDER_PATH = './'\n",
    "\n",
    "NOTE_PITCH = \"C4\"\n",
    "NOTE_INSTRUMENT = \"Acoustic Grand Piano\"\n",
    "NOTE_VELOCITY = 100\n",
    "NOTE_DURATION = 0.125\n",
    "\n",
    "NAME = \"2notes\"\n",
    "\n",
    "MODULES = [\n",
    "    \"x0\",\n",
    "    \"0x\",\n",
    "    \"00\",\n",
    "    \"xx\",\n",
    "]\n",
    "\n",
    "def generate_midi(module):\n",
    "    score = pretty_midi.PrettyMIDI()\n",
    "    instrument = pretty_midi.Instrument(\n",
    "        program=pretty_midi.instrument_name_to_program(NOTE_INSTRUMENT))\n",
    "    note_number = pretty_midi.note_name_to_number(NOTE_PITCH)\n",
    "    for index, note in enumerate(module):\n",
    "        if note == \"x\":\n",
    "            note_start = index * NOTE_DURATION\n",
    "            note_end = note_start + NOTE_DURATION\n",
    "            note = pretty_midi.Note(velocity=NOTE_VELOCITY,\n",
    "                                    pitch=note_number,\n",
    "                                    start=note_start,\n",
    "                                    end=note_end)\n",
    "            instrument.notes.append(note)\n",
    "    score.instruments.append(instrument)\n",
    "    return score\n",
    "\n",
    "\n",
    "assert os.path.exists(OUT_FOLDER_PATH)\n",
    "\n",
    "for index, module in enumerate(MODULES):  \n",
    "    score = generate_midi(module)\n",
    "    out_file = os.path.join(OUT_FOLDER_PATH, \"module-{}-{}.mid\".format(NAME, index + 1))\n",
    "    score.write(out_file)\n",
    "    print(\"Stored MIDI score @ {}\".format(out_file))"
   ]
  }
 ],
 "metadata": {
  "kernelspec": {
   "display_name": "Python 3 (ipykernel)",
   "language": "python",
   "name": "python3"
  },
  "language_info": {
   "codemirror_mode": {
    "name": "ipython",
    "version": 3
   },
   "file_extension": ".py",
   "mimetype": "text/x-python",
   "name": "python",
   "nbconvert_exporter": "python",
   "pygments_lexer": "ipython3",
   "version": "3.8.11"
  }
 },
 "nbformat": 4,
 "nbformat_minor": 5
}
